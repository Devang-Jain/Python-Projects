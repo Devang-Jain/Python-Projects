{
 "cells": [
  {
   "cell_type": "code",
   "execution_count": 28,
   "id": "e9161a97",
   "metadata": {},
   "outputs": [],
   "source": [
    "import pandas as pd\n",
    "import numpy as np\n",
    "import seaborn as sns\n",
    "import matplotlib.pyplot as plt\n",
    "from scipy import stats"
   ]
  },
  {
   "cell_type": "code",
   "execution_count": 47,
   "id": "4fbf5d76",
   "metadata": {},
   "outputs": [],
   "source": [
    "column_subset=[\n",
    "    \"id\",\n",
    "    \"make\",\n",
    "    \"model\",\n",
    "    \"year\",\n",
    "    \"cylinders\",\n",
    "    \"fuelType\",\n",
    "    \"trany\",\n",
    "    \"mpgData\",\n",
    "    \"city08\",\n",
    "    \"highway08\",\n",
    "    \"drive\",\n",
    "    \"fuelCost08\",\n",
    "    \"comb08\"\n",
    "]"
   ]
  },
  {
   "cell_type": "code",
   "execution_count": 48,
   "id": "ca5fd6f6",
   "metadata": {},
   "outputs": [],
   "source": [
    "df=pd.read_csv(r'C:\\Users\\Devang Jain\\Downloads\\Vehicles.csv',usecols=column_subset,nrows=100)"
   ]
  },
  {
   "cell_type": "code",
   "execution_count": 8,
   "id": "5636c82f",
   "metadata": {},
   "outputs": [
    {
     "data": {
      "text/html": [
       "<div>\n",
       "<style scoped>\n",
       "    .dataframe tbody tr th:only-of-type {\n",
       "        vertical-align: middle;\n",
       "    }\n",
       "\n",
       "    .dataframe tbody tr th {\n",
       "        vertical-align: top;\n",
       "    }\n",
       "\n",
       "    .dataframe thead th {\n",
       "        text-align: right;\n",
       "    }\n",
       "</style>\n",
       "<table border=\"1\" class=\"dataframe\">\n",
       "  <thead>\n",
       "    <tr style=\"text-align: right;\">\n",
       "      <th></th>\n",
       "      <th>city08</th>\n",
       "      <th>cylinders</th>\n",
       "      <th>fuelType</th>\n",
       "      <th>highway08</th>\n",
       "      <th>id</th>\n",
       "      <th>make</th>\n",
       "      <th>model</th>\n",
       "      <th>mpgData</th>\n",
       "      <th>trany</th>\n",
       "      <th>year</th>\n",
       "    </tr>\n",
       "  </thead>\n",
       "  <tbody>\n",
       "    <tr>\n",
       "      <th>0</th>\n",
       "      <td>19</td>\n",
       "      <td>4</td>\n",
       "      <td>Regular</td>\n",
       "      <td>25</td>\n",
       "      <td>1</td>\n",
       "      <td>Alfa Romeo</td>\n",
       "      <td>Spider Veloce 2000</td>\n",
       "      <td>Y</td>\n",
       "      <td>Manual 5-spd</td>\n",
       "      <td>1985</td>\n",
       "    </tr>\n",
       "    <tr>\n",
       "      <th>1</th>\n",
       "      <td>9</td>\n",
       "      <td>12</td>\n",
       "      <td>Regular</td>\n",
       "      <td>14</td>\n",
       "      <td>10</td>\n",
       "      <td>Ferrari</td>\n",
       "      <td>Testarossa</td>\n",
       "      <td>N</td>\n",
       "      <td>Manual 5-spd</td>\n",
       "      <td>1985</td>\n",
       "    </tr>\n",
       "    <tr>\n",
       "      <th>2</th>\n",
       "      <td>23</td>\n",
       "      <td>4</td>\n",
       "      <td>Regular</td>\n",
       "      <td>33</td>\n",
       "      <td>100</td>\n",
       "      <td>Dodge</td>\n",
       "      <td>Charger</td>\n",
       "      <td>Y</td>\n",
       "      <td>Manual 5-spd</td>\n",
       "      <td>1985</td>\n",
       "    </tr>\n",
       "    <tr>\n",
       "      <th>3</th>\n",
       "      <td>10</td>\n",
       "      <td>8</td>\n",
       "      <td>Regular</td>\n",
       "      <td>12</td>\n",
       "      <td>1000</td>\n",
       "      <td>Dodge</td>\n",
       "      <td>B150/B250 Wagon 2WD</td>\n",
       "      <td>N</td>\n",
       "      <td>Automatic 3-spd</td>\n",
       "      <td>1985</td>\n",
       "    </tr>\n",
       "    <tr>\n",
       "      <th>4</th>\n",
       "      <td>17</td>\n",
       "      <td>4</td>\n",
       "      <td>Premium</td>\n",
       "      <td>23</td>\n",
       "      <td>10000</td>\n",
       "      <td>Subaru</td>\n",
       "      <td>Legacy AWD Turbo</td>\n",
       "      <td>N</td>\n",
       "      <td>Manual 5-spd</td>\n",
       "      <td>1993</td>\n",
       "    </tr>\n",
       "    <tr>\n",
       "      <th>...</th>\n",
       "      <td>...</td>\n",
       "      <td>...</td>\n",
       "      <td>...</td>\n",
       "      <td>...</td>\n",
       "      <td>...</td>\n",
       "      <td>...</td>\n",
       "      <td>...</td>\n",
       "      <td>...</td>\n",
       "      <td>...</td>\n",
       "      <td>...</td>\n",
       "    </tr>\n",
       "    <tr>\n",
       "      <th>95</th>\n",
       "      <td>17</td>\n",
       "      <td>6</td>\n",
       "      <td>Regular</td>\n",
       "      <td>25</td>\n",
       "      <td>10083</td>\n",
       "      <td>Pontiac</td>\n",
       "      <td>Grand Prix</td>\n",
       "      <td>Y</td>\n",
       "      <td>Automatic 3-spd</td>\n",
       "      <td>1993</td>\n",
       "    </tr>\n",
       "    <tr>\n",
       "      <th>96</th>\n",
       "      <td>17</td>\n",
       "      <td>6</td>\n",
       "      <td>Regular</td>\n",
       "      <td>27</td>\n",
       "      <td>10084</td>\n",
       "      <td>Pontiac</td>\n",
       "      <td>Grand Prix</td>\n",
       "      <td>N</td>\n",
       "      <td>Automatic 4-spd</td>\n",
       "      <td>1993</td>\n",
       "    </tr>\n",
       "    <tr>\n",
       "      <th>97</th>\n",
       "      <td>15</td>\n",
       "      <td>6</td>\n",
       "      <td>Regular</td>\n",
       "      <td>24</td>\n",
       "      <td>10085</td>\n",
       "      <td>Pontiac</td>\n",
       "      <td>Grand Prix</td>\n",
       "      <td>N</td>\n",
       "      <td>Automatic 4-spd</td>\n",
       "      <td>1993</td>\n",
       "    </tr>\n",
       "    <tr>\n",
       "      <th>98</th>\n",
       "      <td>15</td>\n",
       "      <td>6</td>\n",
       "      <td>Regular</td>\n",
       "      <td>24</td>\n",
       "      <td>10086</td>\n",
       "      <td>Pontiac</td>\n",
       "      <td>Grand Prix</td>\n",
       "      <td>N</td>\n",
       "      <td>Manual 5-spd</td>\n",
       "      <td>1993</td>\n",
       "    </tr>\n",
       "    <tr>\n",
       "      <th>99</th>\n",
       "      <td>9</td>\n",
       "      <td>8</td>\n",
       "      <td>Premium</td>\n",
       "      <td>13</td>\n",
       "      <td>10087</td>\n",
       "      <td>Rolls-Royce</td>\n",
       "      <td>Brooklands/Brklnds L</td>\n",
       "      <td>N</td>\n",
       "      <td>Automatic 4-spd</td>\n",
       "      <td>1993</td>\n",
       "    </tr>\n",
       "  </tbody>\n",
       "</table>\n",
       "<p>100 rows × 10 columns</p>\n",
       "</div>"
      ],
      "text/plain": [
       "    city08  cylinders fuelType  highway08     id         make  \\\n",
       "0       19          4  Regular         25      1   Alfa Romeo   \n",
       "1        9         12  Regular         14     10      Ferrari   \n",
       "2       23          4  Regular         33    100        Dodge   \n",
       "3       10          8  Regular         12   1000        Dodge   \n",
       "4       17          4  Premium         23  10000       Subaru   \n",
       "..     ...        ...      ...        ...    ...          ...   \n",
       "95      17          6  Regular         25  10083      Pontiac   \n",
       "96      17          6  Regular         27  10084      Pontiac   \n",
       "97      15          6  Regular         24  10085      Pontiac   \n",
       "98      15          6  Regular         24  10086      Pontiac   \n",
       "99       9          8  Premium         13  10087  Rolls-Royce   \n",
       "\n",
       "                   model mpgData            trany  year  \n",
       "0     Spider Veloce 2000       Y     Manual 5-spd  1985  \n",
       "1             Testarossa       N     Manual 5-spd  1985  \n",
       "2                Charger       Y     Manual 5-spd  1985  \n",
       "3    B150/B250 Wagon 2WD       N  Automatic 3-spd  1985  \n",
       "4       Legacy AWD Turbo       N     Manual 5-spd  1993  \n",
       "..                   ...     ...              ...   ...  \n",
       "95            Grand Prix       Y  Automatic 3-spd  1993  \n",
       "96            Grand Prix       N  Automatic 4-spd  1993  \n",
       "97            Grand Prix       N  Automatic 4-spd  1993  \n",
       "98            Grand Prix       N     Manual 5-spd  1993  \n",
       "99  Brooklands/Brklnds L       N  Automatic 4-spd  1993  \n",
       "\n",
       "[100 rows x 10 columns]"
      ]
     },
     "execution_count": 8,
     "metadata": {},
     "output_type": "execute_result"
    }
   ],
   "source": [
    "df"
   ]
  },
  {
   "cell_type": "code",
   "execution_count": 9,
   "id": "69aa921b",
   "metadata": {},
   "outputs": [
    {
     "data": {
      "text/html": [
       "<div>\n",
       "<style scoped>\n",
       "    .dataframe tbody tr th:only-of-type {\n",
       "        vertical-align: middle;\n",
       "    }\n",
       "\n",
       "    .dataframe tbody tr th {\n",
       "        vertical-align: top;\n",
       "    }\n",
       "\n",
       "    .dataframe thead th {\n",
       "        text-align: right;\n",
       "    }\n",
       "</style>\n",
       "<table border=\"1\" class=\"dataframe\">\n",
       "  <thead>\n",
       "    <tr style=\"text-align: right;\">\n",
       "      <th></th>\n",
       "      <th>city08</th>\n",
       "      <th>cylinders</th>\n",
       "      <th>fuelType</th>\n",
       "      <th>highway08</th>\n",
       "      <th>id</th>\n",
       "      <th>make</th>\n",
       "      <th>model</th>\n",
       "      <th>mpgData</th>\n",
       "      <th>trany</th>\n",
       "      <th>year</th>\n",
       "    </tr>\n",
       "  </thead>\n",
       "  <tbody>\n",
       "    <tr>\n",
       "      <th>99</th>\n",
       "      <td>9</td>\n",
       "      <td>8</td>\n",
       "      <td>Premium</td>\n",
       "      <td>13</td>\n",
       "      <td>10087</td>\n",
       "      <td>Rolls-Royce</td>\n",
       "      <td>Brooklands/Brklnds L</td>\n",
       "      <td>N</td>\n",
       "      <td>Automatic 4-spd</td>\n",
       "      <td>1993</td>\n",
       "    </tr>\n",
       "    <tr>\n",
       "      <th>1</th>\n",
       "      <td>9</td>\n",
       "      <td>12</td>\n",
       "      <td>Regular</td>\n",
       "      <td>14</td>\n",
       "      <td>10</td>\n",
       "      <td>Ferrari</td>\n",
       "      <td>Testarossa</td>\n",
       "      <td>N</td>\n",
       "      <td>Manual 5-spd</td>\n",
       "      <td>1985</td>\n",
       "    </tr>\n",
       "    <tr>\n",
       "      <th>80</th>\n",
       "      <td>9</td>\n",
       "      <td>8</td>\n",
       "      <td>Regular</td>\n",
       "      <td>10</td>\n",
       "      <td>1007</td>\n",
       "      <td>Dodge</td>\n",
       "      <td>B350 Wagon 2WD</td>\n",
       "      <td>N</td>\n",
       "      <td>Automatic 3-spd</td>\n",
       "      <td>1985</td>\n",
       "    </tr>\n",
       "    <tr>\n",
       "      <th>47</th>\n",
       "      <td>9</td>\n",
       "      <td>8</td>\n",
       "      <td>Regular</td>\n",
       "      <td>11</td>\n",
       "      <td>1004</td>\n",
       "      <td>Dodge</td>\n",
       "      <td>B150/B250 Wagon 2WD</td>\n",
       "      <td>N</td>\n",
       "      <td>Automatic 3-spd</td>\n",
       "      <td>1985</td>\n",
       "    </tr>\n",
       "    <tr>\n",
       "      <th>3</th>\n",
       "      <td>10</td>\n",
       "      <td>8</td>\n",
       "      <td>Regular</td>\n",
       "      <td>12</td>\n",
       "      <td>1000</td>\n",
       "      <td>Dodge</td>\n",
       "      <td>B150/B250 Wagon 2WD</td>\n",
       "      <td>N</td>\n",
       "      <td>Automatic 3-spd</td>\n",
       "      <td>1985</td>\n",
       "    </tr>\n",
       "    <tr>\n",
       "      <th>...</th>\n",
       "      <td>...</td>\n",
       "      <td>...</td>\n",
       "      <td>...</td>\n",
       "      <td>...</td>\n",
       "      <td>...</td>\n",
       "      <td>...</td>\n",
       "      <td>...</td>\n",
       "      <td>...</td>\n",
       "      <td>...</td>\n",
       "      <td>...</td>\n",
       "    </tr>\n",
       "    <tr>\n",
       "      <th>9</th>\n",
       "      <td>23</td>\n",
       "      <td>4</td>\n",
       "      <td>Regular</td>\n",
       "      <td>30</td>\n",
       "      <td>10005</td>\n",
       "      <td>Toyota</td>\n",
       "      <td>Corolla</td>\n",
       "      <td>Y</td>\n",
       "      <td>Automatic 4-spd</td>\n",
       "      <td>1993</td>\n",
       "    </tr>\n",
       "    <tr>\n",
       "      <th>8</th>\n",
       "      <td>23</td>\n",
       "      <td>4</td>\n",
       "      <td>Regular</td>\n",
       "      <td>31</td>\n",
       "      <td>10004</td>\n",
       "      <td>Toyota</td>\n",
       "      <td>Corolla</td>\n",
       "      <td>Y</td>\n",
       "      <td>Manual 5-spd</td>\n",
       "      <td>1993</td>\n",
       "    </tr>\n",
       "    <tr>\n",
       "      <th>7</th>\n",
       "      <td>23</td>\n",
       "      <td>4</td>\n",
       "      <td>Regular</td>\n",
       "      <td>26</td>\n",
       "      <td>10003</td>\n",
       "      <td>Toyota</td>\n",
       "      <td>Corolla</td>\n",
       "      <td>Y</td>\n",
       "      <td>Automatic 3-spd</td>\n",
       "      <td>1993</td>\n",
       "    </tr>\n",
       "    <tr>\n",
       "      <th>76</th>\n",
       "      <td>23</td>\n",
       "      <td>4</td>\n",
       "      <td>Regular</td>\n",
       "      <td>31</td>\n",
       "      <td>10066</td>\n",
       "      <td>Mazda</td>\n",
       "      <td>626</td>\n",
       "      <td>Y</td>\n",
       "      <td>Manual 5-spd</td>\n",
       "      <td>1993</td>\n",
       "    </tr>\n",
       "    <tr>\n",
       "      <th>2</th>\n",
       "      <td>23</td>\n",
       "      <td>4</td>\n",
       "      <td>Regular</td>\n",
       "      <td>33</td>\n",
       "      <td>100</td>\n",
       "      <td>Dodge</td>\n",
       "      <td>Charger</td>\n",
       "      <td>Y</td>\n",
       "      <td>Manual 5-spd</td>\n",
       "      <td>1985</td>\n",
       "    </tr>\n",
       "  </tbody>\n",
       "</table>\n",
       "<p>100 rows × 10 columns</p>\n",
       "</div>"
      ],
      "text/plain": [
       "    city08  cylinders fuelType  highway08     id         make  \\\n",
       "99       9          8  Premium         13  10087  Rolls-Royce   \n",
       "1        9         12  Regular         14     10      Ferrari   \n",
       "80       9          8  Regular         10   1007        Dodge   \n",
       "47       9          8  Regular         11   1004        Dodge   \n",
       "3       10          8  Regular         12   1000        Dodge   \n",
       "..     ...        ...      ...        ...    ...          ...   \n",
       "9       23          4  Regular         30  10005       Toyota   \n",
       "8       23          4  Regular         31  10004       Toyota   \n",
       "7       23          4  Regular         26  10003       Toyota   \n",
       "76      23          4  Regular         31  10066        Mazda   \n",
       "2       23          4  Regular         33    100        Dodge   \n",
       "\n",
       "                   model mpgData            trany  year  \n",
       "99  Brooklands/Brklnds L       N  Automatic 4-spd  1993  \n",
       "1             Testarossa       N     Manual 5-spd  1985  \n",
       "80        B350 Wagon 2WD       N  Automatic 3-spd  1985  \n",
       "47   B150/B250 Wagon 2WD       N  Automatic 3-spd  1985  \n",
       "3    B150/B250 Wagon 2WD       N  Automatic 3-spd  1985  \n",
       "..                   ...     ...              ...   ...  \n",
       "9                Corolla       Y  Automatic 4-spd  1993  \n",
       "8                Corolla       Y     Manual 5-spd  1993  \n",
       "7                Corolla       Y  Automatic 3-spd  1993  \n",
       "76                   626       Y     Manual 5-spd  1993  \n",
       "2                Charger       Y     Manual 5-spd  1985  \n",
       "\n",
       "[100 rows x 10 columns]"
      ]
     },
     "execution_count": 9,
     "metadata": {},
     "output_type": "execute_result"
    }
   ],
   "source": [
    "df.sort_values(\"city08\")"
   ]
  },
  {
   "cell_type": "code",
   "execution_count": 12,
   "id": "b7c4de82",
   "metadata": {},
   "outputs": [
    {
     "data": {
      "text/html": [
       "<div>\n",
       "<style scoped>\n",
       "    .dataframe tbody tr th:only-of-type {\n",
       "        vertical-align: middle;\n",
       "    }\n",
       "\n",
       "    .dataframe tbody tr th {\n",
       "        vertical-align: top;\n",
       "    }\n",
       "\n",
       "    .dataframe thead th {\n",
       "        text-align: right;\n",
       "    }\n",
       "</style>\n",
       "<table border=\"1\" class=\"dataframe\">\n",
       "  <thead>\n",
       "    <tr style=\"text-align: right;\">\n",
       "      <th></th>\n",
       "      <th>city08</th>\n",
       "      <th>highway08</th>\n",
       "    </tr>\n",
       "  </thead>\n",
       "  <tbody>\n",
       "    <tr>\n",
       "      <th>80</th>\n",
       "      <td>9</td>\n",
       "      <td>10</td>\n",
       "    </tr>\n",
       "    <tr>\n",
       "      <th>47</th>\n",
       "      <td>9</td>\n",
       "      <td>11</td>\n",
       "    </tr>\n",
       "    <tr>\n",
       "      <th>99</th>\n",
       "      <td>9</td>\n",
       "      <td>13</td>\n",
       "    </tr>\n",
       "    <tr>\n",
       "      <th>1</th>\n",
       "      <td>9</td>\n",
       "      <td>14</td>\n",
       "    </tr>\n",
       "    <tr>\n",
       "      <th>58</th>\n",
       "      <td>10</td>\n",
       "      <td>11</td>\n",
       "    </tr>\n",
       "    <tr>\n",
       "      <th>...</th>\n",
       "      <td>...</td>\n",
       "      <td>...</td>\n",
       "    </tr>\n",
       "    <tr>\n",
       "      <th>9</th>\n",
       "      <td>23</td>\n",
       "      <td>30</td>\n",
       "    </tr>\n",
       "    <tr>\n",
       "      <th>10</th>\n",
       "      <td>23</td>\n",
       "      <td>30</td>\n",
       "    </tr>\n",
       "    <tr>\n",
       "      <th>8</th>\n",
       "      <td>23</td>\n",
       "      <td>31</td>\n",
       "    </tr>\n",
       "    <tr>\n",
       "      <th>76</th>\n",
       "      <td>23</td>\n",
       "      <td>31</td>\n",
       "    </tr>\n",
       "    <tr>\n",
       "      <th>2</th>\n",
       "      <td>23</td>\n",
       "      <td>33</td>\n",
       "    </tr>\n",
       "  </tbody>\n",
       "</table>\n",
       "<p>100 rows × 2 columns</p>\n",
       "</div>"
      ],
      "text/plain": [
       "    city08  highway08\n",
       "80       9         10\n",
       "47       9         11\n",
       "99       9         13\n",
       "1        9         14\n",
       "58      10         11\n",
       "..     ...        ...\n",
       "9       23         30\n",
       "10      23         30\n",
       "8       23         31\n",
       "76      23         31\n",
       "2       23         33\n",
       "\n",
       "[100 rows x 2 columns]"
      ]
     },
     "execution_count": 12,
     "metadata": {},
     "output_type": "execute_result"
    }
   ],
   "source": [
    "df.sort_values(by=[\"city08\",\"highway08\"])[[\"city08\",\"highway08\"]]"
   ]
  },
  {
   "cell_type": "markdown",
   "id": "3e6f1a5a",
   "metadata": {},
   "source": [
    "### 1. Descriptive Statistics"
   ]
  },
  {
   "cell_type": "code",
   "execution_count": 14,
   "id": "a7e9182d",
   "metadata": {},
   "outputs": [
    {
     "name": "stdout",
     "output_type": "stream",
     "text": [
      "           city08   cylinders   highway08            id         year\n",
      "count  100.000000  100.000000  100.000000    100.000000   100.000000\n",
      "mean    16.790000    5.940000   23.470000   8929.750000  1992.040000\n",
      "std      3.373381    1.644212    4.560381   3034.851599     2.612789\n",
      "min      9.000000    4.000000   10.000000      1.000000  1985.000000\n",
      "25%     15.000000    4.000000   22.000000  10012.750000  1993.000000\n",
      "50%     17.000000    6.000000   24.000000  10037.500000  1993.000000\n",
      "75%     18.000000    6.000000   26.000000  10062.250000  1993.000000\n",
      "max     23.000000   12.000000   33.000000  10087.000000  1993.000000\n"
     ]
    }
   ],
   "source": [
    "df.describe()\n"
   ]
  },
  {
   "cell_type": "markdown",
   "id": "810a39d3",
   "metadata": {},
   "source": [
    "### 2. Check unique values in the 'drive' column"
   ]
  },
  {
   "cell_type": "code",
   "execution_count": 60,
   "id": "fc13c784",
   "metadata": {},
   "outputs": [
    {
     "name": "stdout",
     "output_type": "stream",
     "text": [
      "Unique Drive Types: ['Rear-Wheel Drive' 'Front-Wheel Drive' '4-Wheel or All-Wheel Drive']\n"
     ]
    }
   ],
   "source": [
    "unique_drive_types = df['drive'].unique()\n",
    "print('Unique Drive Types:', unique_drive_types)"
   ]
  },
  {
   "cell_type": "markdown",
   "id": "f9cbf8ec",
   "metadata": {},
   "source": [
    "### 3. Calculate the average fuel cost per mile for each fuel type"
   ]
  },
  {
   "cell_type": "code",
   "execution_count": 61,
   "id": "a3feb913",
   "metadata": {},
   "outputs": [
    {
     "name": "stdout",
     "output_type": "stream",
     "text": [
      "Average Fuel Cost per Mile by Fuel Type:\n",
      "fuelType\n",
      "Premium    224.642857\n",
      "Regular    147.423025\n",
      "dtype: float64\n"
     ]
    }
   ],
   "source": [
    "avg_fuel_cost_per_mile = df.groupby('fuelType')['fuelCost08'].mean() / df.groupby('fuelType')['comb08'].mean()\n",
    "print('Average Fuel Cost per Mile by Fuel Type:')\n",
    "print(avg_fuel_cost_per_mile)"
   ]
  },
  {
   "cell_type": "markdown",
   "id": "b5a1b722",
   "metadata": {},
   "source": [
    "### 4. Vehicle with Maximum Cylinder"
   ]
  },
  {
   "cell_type": "code",
   "execution_count": 62,
   "id": "3f3322a0",
   "metadata": {},
   "outputs": [
    {
     "name": "stdout",
     "output_type": "stream",
     "text": [
      "Record with Maximum Cylinders:\n",
      "city08                       9\n",
      "comb08                      11\n",
      "cylinders                   12\n",
      "drive         Rear-Wheel Drive\n",
      "fuelCost08                4900\n",
      "fuelType               Regular\n",
      "highway08                   14\n",
      "id                          10\n",
      "make                   Ferrari\n",
      "model               Testarossa\n",
      "mpgData                      N\n",
      "trany             Manual 5-spd\n",
      "year                      1985\n",
      "Name: 1, dtype: object\n"
     ]
    }
   ],
   "source": [
    "max_cylinders_record = df.loc[df['cylinders'].idxmax()]\n",
    "print(\"Record with Maximum Cylinders:\")\n",
    "print(max_cylinders_record)"
   ]
  },
  {
   "cell_type": "markdown",
   "id": "2a0463fc",
   "metadata": {},
   "source": [
    "### 5. Distribution of Vehicles by Make and Model"
   ]
  },
  {
   "cell_type": "code",
   "execution_count": 15,
   "id": "36a4de83",
   "metadata": {},
   "outputs": [
    {
     "data": {
      "image/png": "[encoded data removed]",
      "text/plain": [
       "<Figure size 864x432 with 1 Axes>"
      ]
     },
     "metadata": {
      "needs_background": "light"
     },
     "output_type": "display_data"
    }
   ],
   "source": [
    "plt.figure(figsize=(12, 6))\n",
    "sns.countplot(x='make', data=df, order=df['make'].value_counts().index)\n",
    "plt.xticks(rotation=90)\n",
    "plt.show()\n"
   ]
  },
  {
   "cell_type": "markdown",
   "id": "741a1ace",
   "metadata": {},
   "source": [
    "### 6. Fuel Type Distribution"
   ]
  },
  {
   "cell_type": "code",
   "execution_count": 19,
   "id": "9e4e36ca",
   "metadata": {},
   "outputs": [
    {
     "data": {
      "image/png": "[encoded data removed]",
      "text/plain": [
       "<Figure size 576x360 with 1 Axes>"
      ]
     },
     "metadata": {
      "needs_background": "light"
     },
     "output_type": "display_data"
    }
   ],
   "source": [
    "plt.figure(figsize=(8, 5))\n",
    "sns.countplot(x='fuelType', data=df)\n",
    "plt.show()\n"
   ]
  },
  {
   "cell_type": "markdown",
   "id": "2aca25b1",
   "metadata": {},
   "source": [
    "### 7. Transmission Type Analysis"
   ]
  },
  {
   "cell_type": "code",
   "execution_count": 20,
   "id": "8be5b09a",
   "metadata": {},
   "outputs": [
    {
     "data": {
      "image/png": "[encoded data removed]",
      "text/plain": [
       "<Figure size 576x360 with 1 Axes>"
      ]
     },
     "metadata": {
      "needs_background": "light"
     },
     "output_type": "display_data"
    }
   ],
   "source": [
    "plt.figure(figsize=(8, 5))\n",
    "sns.countplot(x='trany', data=df)\n",
    "plt.show()\n"
   ]
  },
  {
   "cell_type": "markdown",
   "id": "7b2e7b2e",
   "metadata": {},
   "source": [
    "### 8. Fuel Efficiency Analysis"
   ]
  },
  {
   "cell_type": "code",
   "execution_count": 26,
   "id": "282fc228",
   "metadata": {},
   "outputs": [
    {
     "data": {
      "image/png": "[encoded data removed]",
      "text/plain": [
       "<Figure size 720x432 with 1 Axes>"
      ]
     },
     "metadata": {
      "needs_background": "light"
     },
     "output_type": "display_data"
    }
   ],
   "source": [
    "plt.figure(figsize=(10, 6))\n",
    "sns.scatterplot(x='city08', y='highway08', data=df)\n",
    "plt.xlabel('City MPG')\n",
    "plt.ylabel('Highway MPG')\n",
    "plt.show()\n"
   ]
  },
  {
   "cell_type": "markdown",
   "id": "436e5136",
   "metadata": {},
   "source": [
    "### 9. Temporal Trends"
   ]
  },
  {
   "cell_type": "code",
   "execution_count": 27,
   "id": "9ae0f3ca",
   "metadata": {},
   "outputs": [
    {
     "data": {
      "image/png": "[encoded data removed]",
      "text/plain": [
       "<Figure size 864x432 with 1 Axes>"
      ]
     },
     "metadata": {
      "needs_background": "light"
     },
     "output_type": "display_data"
    }
   ],
   "source": [
    "plt.figure(figsize=(12, 6))\n",
    "sns.lineplot(x='year', y='city08', data=df, label='City MPG')\n",
    "sns.lineplot(x='year', y='highway08', data=df, label='Highway MPG')\n",
    "plt.xlabel('Year')\n",
    "plt.ylabel('Miles per Gallon')\n",
    "plt.show()\n"
   ]
  },
  {
   "cell_type": "markdown",
   "id": "1040feeb",
   "metadata": {},
   "source": [
    "### 10. Outlier Detection"
   ]
  },
  {
   "cell_type": "code",
   "execution_count": 52,
   "id": "c9add8a2",
   "metadata": {},
   "outputs": [
    {
     "data": {
      "image/png": "[encoded data removed]",
      "text/plain": [
       "<Figure size 864x432 with 1 Axes>"
      ]
     },
     "metadata": {
      "needs_background": "light"
     },
     "output_type": "display_data"
    }
   ],
   "source": [
    "plt.figure(figsize=(12, 6))\n",
    "sns.boxplot(x='cylinders', y='city08', data=df)\n",
    "plt.xlabel('Number of Cylinders')\n",
    "plt.ylabel('City MPG')\n",
    "plt.show()\n"
   ]
  },
  {
   "cell_type": "markdown",
   "id": "69374111",
   "metadata": {},
   "source": [
    "### 11. Correlation Analysis"
   ]
  },
  {
   "cell_type": "code",
   "execution_count": 53,
   "id": "f79d06aa",
   "metadata": {},
   "outputs": [
    {
     "data": {
      "image/png": "[encoded data removed]",
      "text/plain": [
       "<Figure size 432x288 with 2 Axes>"
      ]
     },
     "metadata": {
      "needs_background": "light"
     },
     "output_type": "display_data"
    }
   ],
   "source": [
    "correlation_matrix = df.corr()\n",
    "sns.heatmap(correlation_matrix, annot=True, cmap='coolwarm')\n",
    "plt.show()\n"
   ]
  },
  {
   "cell_type": "markdown",
   "id": "d45b8596",
   "metadata": {},
   "source": [
    "### 12. Remove outliers using z-score"
   ]
  },
  {
   "cell_type": "code",
   "execution_count": 50,
   "id": "a765252d",
   "metadata": {},
   "outputs": [
    {
     "data": {
      "text/html": [
       "<div>\n",
       "<style scoped>\n",
       "    .dataframe tbody tr th:only-of-type {\n",
       "        vertical-align: middle;\n",
       "    }\n",
       "\n",
       "    .dataframe tbody tr th {\n",
       "        vertical-align: top;\n",
       "    }\n",
       "\n",
       "    .dataframe thead th {\n",
       "        text-align: right;\n",
       "    }\n",
       "</style>\n",
       "<table border=\"1\" class=\"dataframe\">\n",
       "  <thead>\n",
       "    <tr style=\"text-align: right;\">\n",
       "      <th></th>\n",
       "      <th>city08</th>\n",
       "      <th>comb08</th>\n",
       "      <th>cylinders</th>\n",
       "      <th>drive</th>\n",
       "      <th>fuelCost08</th>\n",
       "      <th>fuelType</th>\n",
       "      <th>highway08</th>\n",
       "      <th>id</th>\n",
       "      <th>make</th>\n",
       "      <th>model</th>\n",
       "      <th>mpgData</th>\n",
       "      <th>trany</th>\n",
       "      <th>year</th>\n",
       "    </tr>\n",
       "  </thead>\n",
       "  <tbody>\n",
       "    <tr>\n",
       "      <th>0</th>\n",
       "      <td>19</td>\n",
       "      <td>21</td>\n",
       "      <td>4</td>\n",
       "      <td>Rear-Wheel Drive</td>\n",
       "      <td>2550</td>\n",
       "      <td>Regular</td>\n",
       "      <td>25</td>\n",
       "      <td>1</td>\n",
       "      <td>Alfa Romeo</td>\n",
       "      <td>Spider Veloce 2000</td>\n",
       "      <td>Y</td>\n",
       "      <td>Manual 5-spd</td>\n",
       "      <td>1985</td>\n",
       "    </tr>\n",
       "    <tr>\n",
       "      <th>1</th>\n",
       "      <td>9</td>\n",
       "      <td>11</td>\n",
       "      <td>12</td>\n",
       "      <td>Rear-Wheel Drive</td>\n",
       "      <td>4900</td>\n",
       "      <td>Regular</td>\n",
       "      <td>14</td>\n",
       "      <td>10</td>\n",
       "      <td>Ferrari</td>\n",
       "      <td>Testarossa</td>\n",
       "      <td>N</td>\n",
       "      <td>Manual 5-spd</td>\n",
       "      <td>1985</td>\n",
       "    </tr>\n",
       "    <tr>\n",
       "      <th>2</th>\n",
       "      <td>23</td>\n",
       "      <td>27</td>\n",
       "      <td>4</td>\n",
       "      <td>Front-Wheel Drive</td>\n",
       "      <td>2000</td>\n",
       "      <td>Regular</td>\n",
       "      <td>33</td>\n",
       "      <td>100</td>\n",
       "      <td>Dodge</td>\n",
       "      <td>Charger</td>\n",
       "      <td>Y</td>\n",
       "      <td>Manual 5-spd</td>\n",
       "      <td>1985</td>\n",
       "    </tr>\n",
       "    <tr>\n",
       "      <th>3</th>\n",
       "      <td>10</td>\n",
       "      <td>11</td>\n",
       "      <td>8</td>\n",
       "      <td>Rear-Wheel Drive</td>\n",
       "      <td>4900</td>\n",
       "      <td>Regular</td>\n",
       "      <td>12</td>\n",
       "      <td>1000</td>\n",
       "      <td>Dodge</td>\n",
       "      <td>B150/B250 Wagon 2WD</td>\n",
       "      <td>N</td>\n",
       "      <td>Automatic 3-spd</td>\n",
       "      <td>1985</td>\n",
       "    </tr>\n",
       "    <tr>\n",
       "      <th>4</th>\n",
       "      <td>17</td>\n",
       "      <td>19</td>\n",
       "      <td>4</td>\n",
       "      <td>4-Wheel or All-Wheel Drive</td>\n",
       "      <td>3550</td>\n",
       "      <td>Premium</td>\n",
       "      <td>23</td>\n",
       "      <td>10000</td>\n",
       "      <td>Subaru</td>\n",
       "      <td>Legacy AWD Turbo</td>\n",
       "      <td>N</td>\n",
       "      <td>Manual 5-spd</td>\n",
       "      <td>1993</td>\n",
       "    </tr>\n",
       "    <tr>\n",
       "      <th>...</th>\n",
       "      <td>...</td>\n",
       "      <td>...</td>\n",
       "      <td>...</td>\n",
       "      <td>...</td>\n",
       "      <td>...</td>\n",
       "      <td>...</td>\n",
       "      <td>...</td>\n",
       "      <td>...</td>\n",
       "      <td>...</td>\n",
       "      <td>...</td>\n",
       "      <td>...</td>\n",
       "      <td>...</td>\n",
       "      <td>...</td>\n",
       "    </tr>\n",
       "    <tr>\n",
       "      <th>95</th>\n",
       "      <td>17</td>\n",
       "      <td>20</td>\n",
       "      <td>6</td>\n",
       "      <td>Front-Wheel Drive</td>\n",
       "      <td>2700</td>\n",
       "      <td>Regular</td>\n",
       "      <td>25</td>\n",
       "      <td>10083</td>\n",
       "      <td>Pontiac</td>\n",
       "      <td>Grand Prix</td>\n",
       "      <td>Y</td>\n",
       "      <td>Automatic 3-spd</td>\n",
       "      <td>1993</td>\n",
       "    </tr>\n",
       "    <tr>\n",
       "      <th>96</th>\n",
       "      <td>17</td>\n",
       "      <td>20</td>\n",
       "      <td>6</td>\n",
       "      <td>Front-Wheel Drive</td>\n",
       "      <td>2700</td>\n",
       "      <td>Regular</td>\n",
       "      <td>27</td>\n",
       "      <td>10084</td>\n",
       "      <td>Pontiac</td>\n",
       "      <td>Grand Prix</td>\n",
       "      <td>N</td>\n",
       "      <td>Automatic 4-spd</td>\n",
       "      <td>1993</td>\n",
       "    </tr>\n",
       "    <tr>\n",
       "      <th>97</th>\n",
       "      <td>15</td>\n",
       "      <td>18</td>\n",
       "      <td>6</td>\n",
       "      <td>Front-Wheel Drive</td>\n",
       "      <td>3000</td>\n",
       "      <td>Regular</td>\n",
       "      <td>24</td>\n",
       "      <td>10085</td>\n",
       "      <td>Pontiac</td>\n",
       "      <td>Grand Prix</td>\n",
       "      <td>N</td>\n",
       "      <td>Automatic 4-spd</td>\n",
       "      <td>1993</td>\n",
       "    </tr>\n",
       "    <tr>\n",
       "      <th>98</th>\n",
       "      <td>15</td>\n",
       "      <td>18</td>\n",
       "      <td>6</td>\n",
       "      <td>Front-Wheel Drive</td>\n",
       "      <td>3000</td>\n",
       "      <td>Regular</td>\n",
       "      <td>24</td>\n",
       "      <td>10086</td>\n",
       "      <td>Pontiac</td>\n",
       "      <td>Grand Prix</td>\n",
       "      <td>N</td>\n",
       "      <td>Manual 5-spd</td>\n",
       "      <td>1993</td>\n",
       "    </tr>\n",
       "    <tr>\n",
       "      <th>99</th>\n",
       "      <td>9</td>\n",
       "      <td>11</td>\n",
       "      <td>8</td>\n",
       "      <td>Rear-Wheel Drive</td>\n",
       "      <td>6150</td>\n",
       "      <td>Premium</td>\n",
       "      <td>13</td>\n",
       "      <td>10087</td>\n",
       "      <td>Rolls-Royce</td>\n",
       "      <td>Brooklands/Brklnds L</td>\n",
       "      <td>N</td>\n",
       "      <td>Automatic 4-spd</td>\n",
       "      <td>1993</td>\n",
       "    </tr>\n",
       "  </tbody>\n",
       "</table>\n",
       "<p>100 rows × 13 columns</p>\n",
       "</div>"
      ],
      "text/plain": [
       "    city08  comb08  cylinders                       drive  fuelCost08  \\\n",
       "0       19      21          4            Rear-Wheel Drive        2550   \n",
       "1        9      11         12            Rear-Wheel Drive        4900   \n",
       "2       23      27          4           Front-Wheel Drive        2000   \n",
       "3       10      11          8            Rear-Wheel Drive        4900   \n",
       "4       17      19          4  4-Wheel or All-Wheel Drive        3550   \n",
       "..     ...     ...        ...                         ...         ...   \n",
       "95      17      20          6           Front-Wheel Drive        2700   \n",
       "96      17      20          6           Front-Wheel Drive        2700   \n",
       "97      15      18          6           Front-Wheel Drive        3000   \n",
       "98      15      18          6           Front-Wheel Drive        3000   \n",
       "99       9      11          8            Rear-Wheel Drive        6150   \n",
       "\n",
       "   fuelType  highway08     id         make                 model mpgData  \\\n",
       "0   Regular         25      1   Alfa Romeo    Spider Veloce 2000       Y   \n",
       "1   Regular         14     10      Ferrari            Testarossa       N   \n",
       "2   Regular         33    100        Dodge               Charger       Y   \n",
       "3   Regular         12   1000        Dodge   B150/B250 Wagon 2WD       N   \n",
       "4   Premium         23  10000       Subaru      Legacy AWD Turbo       N   \n",
       "..      ...        ...    ...          ...                   ...     ...   \n",
       "95  Regular         25  10083      Pontiac            Grand Prix       Y   \n",
       "96  Regular         27  10084      Pontiac            Grand Prix       N   \n",
       "97  Regular         24  10085      Pontiac            Grand Prix       N   \n",
       "98  Regular         24  10086      Pontiac            Grand Prix       N   \n",
       "99  Premium         13  10087  Rolls-Royce  Brooklands/Brklnds L       N   \n",
       "\n",
       "              trany  year  \n",
       "0      Manual 5-spd  1985  \n",
       "1      Manual 5-spd  1985  \n",
       "2      Manual 5-spd  1985  \n",
       "3   Automatic 3-spd  1985  \n",
       "4      Manual 5-spd  1993  \n",
       "..              ...   ...  \n",
       "95  Automatic 3-spd  1993  \n",
       "96  Automatic 4-spd  1993  \n",
       "97  Automatic 4-spd  1993  \n",
       "98     Manual 5-spd  1993  \n",
       "99  Automatic 4-spd  1993  \n",
       "\n",
       "[100 rows x 13 columns]"
      ]
     },
     "execution_count": 50,
     "metadata": {},
     "output_type": "execute_result"
    }
   ],
   "source": [
    "z_scores = stats.zscore(df['city08'])\n",
    "df_cleaned = df[(z_scores < 3)]\n",
    "df"
   ]
  },
  {
   "cell_type": "markdown",
   "id": "8f3c99f3",
   "metadata": {},
   "source": [
    "### 13. Data Cleaning (check for missing values)"
   ]
  },
  {
   "cell_type": "code",
   "execution_count": 51,
   "id": "8bdc63fe",
   "metadata": {},
   "outputs": [
    {
     "name": "stdout",
     "output_type": "stream",
     "text": [
      "city08        0\n",
      "comb08        0\n",
      "cylinders     0\n",
      "drive         0\n",
      "fuelCost08    0\n",
      "fuelType      0\n",
      "highway08     0\n",
      "id            0\n",
      "make          0\n",
      "model         0\n",
      "mpgData       0\n",
      "trany         0\n",
      "year          0\n",
      "dtype: int64\n"
     ]
    }
   ],
   "source": [
    "print(df.isnull().sum())"
   ]
  },
  {
   "cell_type": "markdown",
   "id": "cac85b2b",
   "metadata": {},
   "source": [
    "### 14. Count the number of occurrences for each fuel type"
   ]
  },
  {
   "cell_type": "code",
   "execution_count": 17,
   "id": "032f8077",
   "metadata": {},
   "outputs": [
    {
     "data": {
      "image/png": "[encoded data removed]",
      "text/plain": [
       "<Figure size 432x288 with 1 Axes>"
      ]
     },
     "metadata": {
      "needs_background": "light"
     },
     "output_type": "display_data"
    }
   ],
   "source": [
    "fuel_type_counts = df['fuelType'].value_counts()\n",
    " \n",
    "# Plot a bar chart\n",
    "fuel_type_counts.plot(kind='bar', color='skyblue', edgecolor='black')\n",
    "plt.title('Distribution of Vehicles by Fuel Type')\n",
    "plt.xlabel('Fuel Type')\n",
    "plt.ylabel('Number of Vehicles')\n",
    "plt.show()"
   ]
  },
  {
   "cell_type": "markdown",
   "id": "bd562d8c",
   "metadata": {},
   "source": [
    "### 15. Visualize the distribution of vehicles over the years"
   ]
  },
  {
   "cell_type": "code",
   "execution_count": 41,
   "id": "296c67cb",
   "metadata": {},
   "outputs": [
    {
     "data": {
      "image/png": "[encoded data removed]",
      "text/plain": [
       "<Figure size 864x432 with 1 Axes>"
      ]
     },
     "metadata": {
      "needs_background": "light"
     },
     "output_type": "display_data"
    }
   ],
   "source": [
    "plt.figure(figsize=(12, 6))\n",
    "sns.countplot(x='year', data=df)\n",
    "plt.title('Distribution of Vehicles Over the Years')\n",
    "plt.show()"
   ]
  },
  {
   "cell_type": "markdown",
   "id": "2118bce8",
   "metadata": {},
   "source": [
    "### 16. Group by year and calculate the mean fuel efficiency for both city and highway "
   ]
  },
  {
   "cell_type": "code",
   "execution_count": 57,
   "id": "a4c44070",
   "metadata": {},
   "outputs": [
    {
     "data": {
      "image/png": "[encoded data removed]",
      "text/plain": [
       "<Figure size 864x432 with 1 Axes>"
      ]
     },
     "metadata": {
      "needs_background": "light"
     },
     "output_type": "display_data"
    }
   ],
   "source": [
    "fuel_efficiency_trends = df.groupby('year')[['city08', 'highway08']].mean().reset_index()\n",
    "\n",
    "# Plotting trends over the years\n",
    "plt.figure(figsize=(12, 6))\n",
    "sns.lineplot(x='year', y='city08', data=fuel_efficiency_trends, label='City MPG')\n",
    "sns.lineplot(x='year', y='highway08', data=fuel_efficiency_trends, label='Highway MPG')\n",
    "plt.title('Trends in Fuel Efficiency Over the Years')\n",
    "plt.xlabel('Year')\n",
    "plt.ylabel('Miles per Gallon')\n",
    "plt.legend()\n",
    "plt.show()"
   ]
  },
  {
   "cell_type": "markdown",
   "id": "94148b51",
   "metadata": {},
   "source": [
    "### 17. Crosstab Analysis: Fuel Type vs Cylinders"
   ]
  },
  {
   "cell_type": "code",
   "execution_count": 65,
   "id": "4ad92b72",
   "metadata": {},
   "outputs": [
    {
     "name": "stdout",
     "output_type": "stream",
     "text": [
      "cylinders  4   6   8   12\n",
      "fuelType                 \n",
      "Premium     1  13  10   0\n",
      "Regular    28  36  10   2\n"
     ]
    },
    {
     "data": {
      "image/png": "[encoded data removed]",
      "text/plain": [
       "<Figure size 432x288 with 1 Axes>"
      ]
     },
     "metadata": {
      "needs_background": "light"
     },
     "output_type": "display_data"
    }
   ],
   "source": [
    "fuel_cylinders_crosstab = pd.crosstab(df['fuelType'], df['cylinders'])\n",
    " \n",
    "print(fuel_cylinders_crosstab)\n",
    " \n",
    "fuel_cylinders_crosstab.plot(kind='bar', stacked=True)\n",
    "plt.title('Crosstab Analysis: Fuel Type vs Cylinders')\n",
    "plt.xlabel('Fuel Type')\n",
    "plt.ylabel('Count')\n",
    "plt.show()"
   ]
  },
  {
   "cell_type": "markdown",
   "id": "92d6e546",
   "metadata": {},
   "source": [
    "### 18. Fuel Cost over the years"
   ]
  },
  {
   "cell_type": "code",
   "execution_count": 66,
   "id": "584edafc",
   "metadata": {},
   "outputs": [
    {
     "data": {
      "image/png": "[encoded data removed]",
      "text/plain": [
       "<Figure size 432x288 with 1 Axes>"
      ]
     },
     "metadata": {
      "needs_background": "light"
     },
     "output_type": "display_data"
    }
   ],
   "source": [
    "df_grouped = df.groupby('year')['fuelCost08'].mean()\n",
    "plt.plot(df_grouped.index, df_grouped.values, marker='o', linestyle='-', color='black')\n",
    "plt.title('Average Fuel Cost Over the Years')\n",
    "plt.xlabel('Year')\n",
    "plt.ylabel('Average Fuel Cost')\n",
    "plt.show()"
   ]
  },
  {
   "cell_type": "markdown",
   "id": "42fb6567",
   "metadata": {},
   "source": [
    "### 19. Number of cylender used in each model type"
   ]
  },
  {
   "cell_type": "code",
   "execution_count": 67,
   "id": "321e15ba",
   "metadata": {},
   "outputs": [
    {
     "data": {
      "text/plain": [
       "make           model                     \n",
       "Alfa Romeo     Spider Veloce 2000             4\n",
       "Audi           100                            6\n",
       "BMW            740i                           8\n",
       "               740il                          8\n",
       "               750il                         12\n",
       "Buick          Century                        4\n",
       "               Regal                          6\n",
       "               Riviera                        6\n",
       "CX Automotive  XM v6                          6\n",
       "               XM v6a                         6\n",
       "Cadillac       Eldorado                       8\n",
       "               Seville                        8\n",
       "Chevrolet      Lumina                         4\n",
       "Chrysler       New Yorker                     6\n",
       "Dodge          B150/B250 Wagon 2WD            8\n",
       "               B350 Wagon 2WD                 8\n",
       "               Charger                        4\n",
       "               Dynasty                        4\n",
       "               Spirit                         4\n",
       "Ferrari        Testarossa                    12\n",
       "Ford           E150 Club Wagon                6\n",
       "               Taurus                         6\n",
       "               Taurus SHO                     6\n",
       "               Thunderbird                    6\n",
       "Hyundai        Sonata                         4\n",
       "Infiniti       Q45                            8\n",
       "               Q45 Full-Active Suspension     8\n",
       "Lexus          LS 400                         8\n",
       "Mazda          626                            4\n",
       "               929                            6\n",
       "Mercury        Cougar                         6\n",
       "               Sable                          6\n",
       "Nissan         Maxima                         6\n",
       "Oldsmobile     Cutlass Ciera                  4\n",
       "               Cutlass Supreme                6\n",
       "               Toronado                       6\n",
       "Plymouth       Acclaim                        4\n",
       "Pontiac        Grand Prix                     6\n",
       "Rolls-Royce    Brooklands/Brklnds L           8\n",
       "Subaru         Legacy AWD Turbo               4\n",
       "               Loyale                         4\n",
       "Toyota         Corolla                        4\n",
       "Volkswagen     Golf III / GTI                 4\n",
       "               Jetta III                      4\n",
       "Volvo          240                            4\n",
       "Name: cylinders, dtype: int64"
      ]
     },
     "execution_count": 67,
     "metadata": {},
     "output_type": "execute_result"
    }
   ],
   "source": [
    "df.groupby(['make','model'])['cylinders'].min()"
   ]
  }
 ],
 "metadata": {
  "kernelspec": {
   "display_name": "Python 3 (ipykernel)",
   "language": "python",
   "name": "python3"
  },
  "language_info": {
   "codemirror_mode": {
    "name": "ipython",
    "version": 3
   },
   "file_extension": ".py",
   "mimetype": "text/x-python",
   "name": "python",
   "nbconvert_exporter": "python",
   "pygments_lexer": "ipython3",
   "version": "3.8.18"
  }
 },
 "nbformat": 4,
 "nbformat_minor": 5
}
